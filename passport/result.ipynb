{
 "cells": [
  {
   "cell_type": "code",
   "execution_count": 27,
   "metadata": {
    "pycharm": {
     "name": "#%%\n"
    }
   },
   "outputs": [],
   "source": [
    "import cv2\n",
    "import easyocr\n",
    "import sys\n",
    "import os\n",
    "import matplotlib.pyplot as plt\n",
    "\n",
    "os.environ[\"TF_CPP_MIN_LOG_LEVEL\"] = '1'\n",
    "\n",
    "rus = ['А', 'Б', 'В', 'Г', 'Д', 'Е', 'Ё', 'Ж', 'З', 'И', 'Й', 'К', 'Л', 'М', 'Н', 'О', 'П', 'Р', 'С', 'Т', 'У', 'Ф',\n",
    "       'Х', 'Ц', 'Ч', 'Ш', 'Щ', 'Ъ', 'Ы', 'Ь', 'Э', 'Ю', 'Я']\n",
    "rus.extend([i.lower() for i in rus])\n",
    "\n",
    "glasn = ['А', 'Е', 'Ё', 'И', 'О', 'У', 'Ы', 'Э', 'Ю', 'Я']\n",
    "glasn.extend([i.lower() for i in glasn])\n",
    "\n",
    "sogl = set(rus)-set(glasn)\n",
    "\n",
    "def face_detection(image):\n",
    "    gray = cv2.cvtColor(image, cv2.COLOR_BGR2GRAY)\n",
    "    faces = cv2.CascadeClassifier('faces.xml')\n",
    "    area = gray.shape[0] * gray.shape[1] \n",
    "    results = faces.detectMultiScale(gray, scaleFactor=1.8, minNeighbors=1)\n",
    "    results = sorted(results, key=lambda i: i[2] * i[3] if i[2]*i[3]<area*0.23 else 0, reverse=True)\n",
    "    return list(results[0])\n",
    "\n",
    "\n",
    "def find_name(image, ocr_reader):\n",
    "    rectangles = ocr_reader.detect(image, width_ths=1, mag_ratio=4)\n",
    "    return ocr_reader.recognize(cv2.cvtColor(image, cv2.COLOR_BGR2GRAY),\n",
    "                                horizontal_list=rectangles[0][0], free_list=[], allowlist=rus, decoder='wordbeamsearch')\n",
    "\n",
    "def expand_picture(image, width: int = 400):\n",
    "    w, h = image.shape[:2]\n",
    "    coef = width / w\n",
    "    height = int(h * coef)\n",
    "    new_shape = (height, width)\n",
    "    return  cv2.resize(image,new_shape)\n",
    "\n",
    "\n",
    "def recognize_name(path):\n",
    "    \n",
    "    photo = cv2.imread(path)\n",
    "    x, y, w, h = face_detection(photo)\n",
    "    photo = expand_picture(photo[y - int(1.1*h): y + int(0.6*h), x + int(1.5*w):x + 6*w])\n",
    "    photo = adjust_contrast_brightness(photo, 1.12, -2)\n",
    "    reader = easyocr.Reader(['ru'], gpu=False)\n",
    "    words = reader.readtext(photo, min_size=40, add_margin=0.3, allowlist=rus, \n",
    "                            decoder='wordbeamsearch', contrast_ths=0.5, \n",
    "                            adjust_contrast=1.12, text_threshold=0.8, beamWidth=10, link_threshold=0.755)\n",
    "    ar = list(filter(lambda x: len(x) > 2,map(lambda i: i[1] if i[2]>0.33 else '', words)))\n",
    "    name = clearing_of_text_list(ar)[:3]\n",
    "    return list(map(lambda i: i.lower().title(), name))\n",
    "\n",
    "\n",
    "def clearing_of_text_list(text):\n",
    "    res = []\n",
    "    for word in text:\n",
    "        gl = 0\n",
    "        sog = 0\n",
    "        for letter in word:\n",
    "    \n",
    "            if letter in glasn:\n",
    "                gl+=1\n",
    "            if letter in sogl:\n",
    "                sog+=1\n",
    "                \n",
    "        if 0 < gl  and sog > 0:\n",
    "            res.append(word)\n",
    "    return res\n",
    "\n",
    "\n",
    "def adjust_contrast_brightness(image, contrast: float = 1.0, brightness: int = 0):\n",
    "    brightness += int(round(255 * (1 - contrast) / 2))\n",
    "    return cv2.addWeighted(image, contrast, image, 0, brightness)\n"
   ]
  },
  {
   "cell_type": "code",
   "execution_count": 28,
   "metadata": {},
   "outputs": [
    {
     "name": "stderr",
     "output_type": "stream",
     "text": [
      "Using CPU. Note: This module is much faster with a GPU.\n"
     ]
    },
    {
     "name": "stdout",
     "output_type": "stream",
     "text": [
      "Processing...\n"
     ]
    },
    {
     "name": "stderr",
     "output_type": "stream",
     "text": [
      "Using CPU. Note: This module is much faster with a GPU.\n",
      "Using CPU. Note: This module is much faster with a GPU.\n",
      "Using CPU. Note: This module is much faster with a GPU.\n",
      "Using CPU. Note: This module is much faster with a GPU.\n",
      "Using CPU. Note: This module is much faster with a GPU.\n",
      "Using CPU. Note: This module is much faster with a GPU.\n",
      "Using CPU. Note: This module is much faster with a GPU.\n",
      "Using CPU. Note: This module is much faster with a GPU.\n",
      "Using CPU. Note: This module is much faster with a GPU.\n"
     ]
    },
    {
     "name": "stdout",
     "output_type": "stream",
     "text": [
      "Finish!\n"
     ]
    }
   ],
   "source": [
    "dir_path = 'D:/Jupyter/passport/images/'\n",
    "with open('output.txt', 'w+', encoding='utf-8') as file:\n",
    "    print('Processing...')\n",
    "    for i in os.listdir(dir_path):\n",
    "        name = recognize_name(dir_path + i)\n",
    "        file.write(f'Passport {i}: {name} \\n')\n",
    "    print('Finish!')"
   ]
  },
  {
   "cell_type": "code",
   "execution_count": null,
   "metadata": {},
   "outputs": [],
   "source": []
  }
 ],
 "metadata": {
  "kernelspec": {
   "display_name": "Python 3 (ipykernel)",
   "language": "python",
   "name": "python3"
  },
  "language_info": {
   "codemirror_mode": {
    "name": "ipython",
    "version": 3
   },
   "file_extension": ".py",
   "mimetype": "text/x-python",
   "name": "python",
   "nbconvert_exporter": "python",
   "pygments_lexer": "ipython3",
   "version": "3.9.13"
  }
 },
 "nbformat": 4,
 "nbformat_minor": 1
}
